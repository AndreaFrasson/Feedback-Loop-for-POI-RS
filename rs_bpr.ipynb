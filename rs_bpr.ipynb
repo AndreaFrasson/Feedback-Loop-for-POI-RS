{
 "cells": [
  {
   "cell_type": "code",
   "execution_count": 1,
   "metadata": {},
   "outputs": [],
   "source": [
    "import pandas as pd\n",
    "import numpy as np\n",
    "from sklearn.preprocessing import LabelEncoder \n",
    "from recbole.config import Config\n",
    "from recbole.data import create_dataset, data_preparation\n",
    "\n",
    "from logging import getLogger\n",
    "from recbole.model.general_recommender import BPR, Pop\n",
    "from recbole.model.sequential_recommender import Caser\n",
    "from recbole.trainer import Trainer\n",
    "from recbole.utils import init_seed, init_logger\n",
    "\n",
    "import torch\n",
    "from recbole.data.interaction import Interaction\n",
    "\n",
    "import pickle\n",
    "import os\n",
    "\n",
    "import make_atomic_files as at"
   ]
  },
  {
   "cell_type": "code",
   "execution_count": 2,
   "metadata": {},
   "outputs": [],
   "source": [
    "def get_history(inter):\n",
    "    visits = []\n",
    "    set_uid = set(inter['uid:token'])\n",
    "    for u in set_uid:\n",
    "        visits.append(inter[inter['uid:token'] == u]['venue_id:token'].values.tolist())\n",
    "    \n",
    "    return np.array(visits)\n",
    "\n",
    "inter = pd.read_csv('foursquare/foursquare.inter', sep='\\t')\n",
    "\n",
    "visits = get_history(inter)"
   ]
  },
  {
   "cell_type": "markdown",
   "metadata": {},
   "source": [
    "## Tuning"
   ]
  },
  {
   "cell_type": "code",
   "execution_count": 8,
   "metadata": {},
   "outputs": [],
   "source": [
    "from recbole.trainer import HyperTuning\n",
    "from recbole.utils import init_seed\n",
    "import os\n",
    "from recbole.utils import get_model, get_trainer"
   ]
  },
  {
   "cell_type": "code",
   "execution_count": 3,
   "metadata": {},
   "outputs": [],
   "source": [
    "def tuning():\n",
    "    def objective_function(config_dict=None, config_file_list=None):\n",
    "        k = 10\n",
    "\n",
    "        config_dict = {\n",
    "            'model': 'BPR',\n",
    "            'data_path': os.getcwd(),\n",
    "            'seed': 1234,\n",
    "            'reproducibility': False,\n",
    "            'topk': 10,\n",
    "            'use_gpu': True\n",
    "\n",
    "        }\n",
    "\n",
    "        config = Config(config_dict=config_dict, config_file_list=['foursquare_general.yaml'])\n",
    "        init_seed(config['seed'], config['reproducibility'])\n",
    "        dataset = create_dataset(config)\n",
    "        train_data, valid_data, test_data = data_preparation(config, dataset)\n",
    "        model_name = config['model']\n",
    "        model = get_model(model_name)(config, train_data._dataset).to(config['device'])\n",
    "        trainer = get_trainer(config['MODEL_TYPE'], config['model'])(config, model)\n",
    "        best_valid_score, best_valid_result = trainer.fit(train_data, valid_data)\n",
    "        test_result = trainer.evaluate(test_data)\n",
    "\n",
    "        return {\n",
    "            'model': model_name,\n",
    "            'best_valid_score': best_valid_score,\n",
    "            'valid_score_bigger': config['valid_metric_bigger'],\n",
    "            'best_valid_result': best_valid_result,\n",
    "            'test_result': test_result\n",
    "        }\n",
    "\n",
    "    hp = HyperTuning(objective_function=objective_function, algo='random', early_stop=10,\n",
    "                    max_evals=100, params_file='bpr.hyper', fixed_config_file_list=['foursquare_general.yaml'])\n",
    "\n",
    "    hp.run()\n",
    "    params = hp.best_params\n",
    "    return params"
   ]
  },
  {
   "cell_type": "markdown",
   "metadata": {},
   "source": [
    "## Train General Recommendation"
   ]
  },
  {
   "cell_type": "code",
   "execution_count": 22,
   "metadata": {},
   "outputs": [],
   "source": [
    "params = {'dynamic': False, 'embedding_size': 128, 'learning_rate': 0.07885866707608949, 'mlp_hidden_size': '[64,64,64]', 'sample_num': 5, 'train_batch_size': 4096}"
   ]
  },
  {
   "cell_type": "code",
   "execution_count": 4,
   "metadata": {},
   "outputs": [],
   "source": [
    "def training(params):\n",
    "\n",
    "    config_dict = {\n",
    "            'model': 'BPR',\n",
    "            'data_path': os.getcwd(),\n",
    "            'seed': 1234,\n",
    "            'reproducibility': False,\n",
    "            'topk': 10,\n",
    "            'use_gpu': True\n",
    "    }\n",
    "    # configurations initialization\n",
    "    k = 10\n",
    "\n",
    "    config = Config(model='BPR', dataset='foursquare', config_file_list=['foursquare_general.yaml'], config_dict = config_dict | params)\n",
    "\n",
    "    # init random seed\n",
    "    init_seed(config['seed'], config['reproducibility'])\n",
    "\n",
    "    # dataset creating and filtering\n",
    "    dataset = create_dataset(config)\n",
    "\n",
    "    # dataset splitting\n",
    "    train_data, valid_data, test_data = data_preparation(config, dataset)\n",
    "\n",
    "    model = BPR(config, train_data.dataset).to(config['device'])\n",
    "\n",
    "    # trainer loading and initialization\n",
    "    trainer = Trainer(config, model)\n",
    "\n",
    "    # model training\n",
    "    best_valid_score, best_valid_result = trainer.fit(train_data, valid_data)\n",
    "\n",
    "    # model evaluation\n",
    "    test_result = trainer.evaluate(test_data)\n",
    "    print(test_result)\n",
    "\n",
    "    return model, test_result"
   ]
  },
  {
   "cell_type": "markdown",
   "metadata": {},
   "source": [
    "## Make prediction"
   ]
  },
  {
   "cell_type": "code",
   "execution_count": 12,
   "metadata": {},
   "outputs": [],
   "source": [
    "def make_predict(model):\n",
    "    k = 10\n",
    "    inter = pd.read_csv('foursquare/foursquare.inter', sep='\\t')\n",
    "    visits = get_history(inter)\n",
    "\n",
    "    unique_users = list(set(inter['uid:token']))\n",
    "\n",
    "\n",
    "    #make prediction for users\n",
    "    input_inter = Interaction({\n",
    "        'uid': torch.tensor(unique_users),\n",
    "        'venue_id': torch.tensor(visits)\n",
    "    })\n",
    "\n",
    "    with torch.no_grad():\n",
    "        scores = model.full_sort_predict(input_inter).reshape((len(unique_users), -1))\n",
    "\n",
    "    #length |items| + 1 because of the padding\n",
    "    print(scores.shape)\n",
    "\n",
    "    # get the 10 items with highest scores\n",
    "    rec_list = np.argsort(scores, axis = 1)[:, -k:]\n",
    "\n",
    "    # select one item at random for each user\n",
    "    def random_choice(a):\n",
    "        # select one item, but then translated back\n",
    "        r_c = np.random.choice(a, 1)\n",
    "        return int(r_c) - 1\n",
    "\n",
    "    random_item = np.apply_along_axis(random_choice, 1, rec_list)\n",
    "    return random_item"
   ]
  },
  {
   "cell_type": "markdown",
   "metadata": {},
   "source": [
    "## Add new values in the dataset"
   ]
  },
  {
   "cell_type": "code",
   "execution_count": 13,
   "metadata": {},
   "outputs": [],
   "source": [
    "def update_interactions(users, items):\n",
    "    inter = pd.read_csv('foursquare/foursquare.inter', sep='\\t')\n",
    "    current_time = max(inter['timestamp:token'])+1\n",
    "    new_locations = pd.DataFrame({'uid:token': users, 'venue_id:token':items.tolist(), 'timestamp:token':[current_time]*len(items)}, columns=['uid:token', 'venue_id:token', 'timestamp:token'])\n",
    "    new_locations.head()\n",
    "\n",
    "    inter = pd.concat([inter, new_locations], axis = 0).reset_index(drop = True)\n",
    "    inter.sort_values(by=['uid:token', 'timestamp:token'], inplace=True)\n",
    "\n",
    "    inter.to_csv('foursquare/foursquare.inter', index=False, sep = '\\t')"
   ]
  },
  {
   "cell_type": "markdown",
   "metadata": {},
   "source": [
    "## Feedback Loop"
   ]
  },
  {
   "cell_type": "code",
   "execution_count": 14,
   "metadata": {},
   "outputs": [
    {
     "name": "stdout",
     "output_type": "stream",
     "text": [
      "running parameters:                                    \n",
      "{'dynamic': False, 'embedding_size': 96, 'learning_rate': 0.049822529215994345, 'mlp_hidden_size': '[128,128]', 'sample_num': 1, 'train_batch_size': 2048}\n",
      "current best valid score: 0.4663                       \n",
      "current best valid result:                             \n",
      "OrderedDict([('hit@10', 0.4663), ('precision@10', 0.0466)])\n",
      "current test result:                                   \n",
      "OrderedDict([('hit@10', 0.4201), ('precision@10', 0.042)])\n",
      "running parameters:                                                   \n",
      "{'dynamic': True, 'embedding_size': 96, 'learning_rate': 0.0068317495351137595, 'mlp_hidden_size': '[64,64,64]', 'sample_num': 5, 'train_batch_size': 4096}\n",
      "running parameters:                                                   \n",
      "{'dynamic': False, 'embedding_size': 64, 'learning_rate': 0.0916746791436222, 'mlp_hidden_size': '[128,128]', 'sample_num': 5, 'train_batch_size': 2048}\n",
      "running parameters:                                                   \n",
      "{'dynamic': True, 'embedding_size': 128, 'learning_rate': 0.028787747392434927, 'mlp_hidden_size': '[128,128]', 'sample_num': 5, 'train_batch_size': 2048}\n",
      "running parameters:                                                   \n",
      "{'dynamic': False, 'embedding_size': 128, 'learning_rate': 0.002082807353931446, 'mlp_hidden_size': '[64,64,64]', 'sample_num': 0, 'train_batch_size': 2048}\n",
      "running parameters:                                                   \n",
      "{'dynamic': False, 'embedding_size': 128, 'learning_rate': 0.04653632046637042, 'mlp_hidden_size': '[128,128]', 'sample_num': 1, 'train_batch_size': 2048}\n",
      "running parameters:                                                   \n",
      "{'dynamic': True, 'embedding_size': 128, 'learning_rate': 0.005959081430619028, 'mlp_hidden_size': '[128,128]', 'sample_num': 5, 'train_batch_size': 2048}\n",
      "running parameters:                                                   \n",
      "{'dynamic': True, 'embedding_size': 128, 'learning_rate': 0.8459353231676583, 'mlp_hidden_size': '[128,128]', 'sample_num': 5, 'train_batch_size': 4096}\n",
      "running parameters:                                                   \n",
      "{'dynamic': True, 'embedding_size': 96, 'learning_rate': 0.012119286071602623, 'mlp_hidden_size': '[128,128]', 'sample_num': 1, 'train_batch_size': 2048}\n",
      "running parameters:                                                   \n",
      "{'dynamic': True, 'embedding_size': 64, 'learning_rate': 0.0004193260054531172, 'mlp_hidden_size': '[64,64,64]', 'sample_num': 1, 'train_batch_size': 2048}\n",
      " 10%|█         | 10/100 [02:27<22:04, 14.72s/trial, best loss: -0.4663]\n",
      "OrderedDict([('hit@10', 0.4229), ('precision@10', 0.0423)])\n",
      "torch.Size([1083, 27899])\n"
     ]
    },
    {
     "name": "stderr",
     "output_type": "stream",
     "text": [
      "/var/folders/8_/mkx2sfs13pqgtr19k0_pc89h0000gn/T/ipykernel_3552/2199853656.py:28: DeprecationWarning: Conversion of an array with ndim > 0 to a scalar is deprecated, and will error in future. Ensure you extract a single element from your array before performing this operation. (Deprecated NumPy 1.25.)\n",
      "  return int(r_c) - 1\n"
     ]
    },
    {
     "name": "stdout",
     "output_type": "stream",
     "text": [
      "OrderedDict([('hit@10', 0.4229), ('precision@10', 0.0423)])\n",
      "996\n",
      "torch.Size([1083, 27899])\n"
     ]
    },
    {
     "name": "stderr",
     "output_type": "stream",
     "text": [
      "/var/folders/8_/mkx2sfs13pqgtr19k0_pc89h0000gn/T/ipykernel_3552/2199853656.py:28: DeprecationWarning: Conversion of an array with ndim > 0 to a scalar is deprecated, and will error in future. Ensure you extract a single element from your array before performing this operation. (Deprecated NumPy 1.25.)\n",
      "  return int(r_c) - 1\n"
     ]
    },
    {
     "name": "stdout",
     "output_type": "stream",
     "text": [
      "OrderedDict([('hit@10', 0.4229), ('precision@10', 0.0423)])\n",
      "1003\n",
      "torch.Size([1083, 27899])\n"
     ]
    },
    {
     "name": "stderr",
     "output_type": "stream",
     "text": [
      "/var/folders/8_/mkx2sfs13pqgtr19k0_pc89h0000gn/T/ipykernel_3552/2199853656.py:28: DeprecationWarning: Conversion of an array with ndim > 0 to a scalar is deprecated, and will error in future. Ensure you extract a single element from your array before performing this operation. (Deprecated NumPy 1.25.)\n",
      "  return int(r_c) - 1\n"
     ]
    },
    {
     "name": "stdout",
     "output_type": "stream",
     "text": [
      "OrderedDict([('hit@10', 0.4229), ('precision@10', 0.0423)])\n",
      "993\n",
      "torch.Size([1083, 27899])\n"
     ]
    },
    {
     "name": "stderr",
     "output_type": "stream",
     "text": [
      "/var/folders/8_/mkx2sfs13pqgtr19k0_pc89h0000gn/T/ipykernel_3552/2199853656.py:28: DeprecationWarning: Conversion of an array with ndim > 0 to a scalar is deprecated, and will error in future. Ensure you extract a single element from your array before performing this operation. (Deprecated NumPy 1.25.)\n",
      "  return int(r_c) - 1\n"
     ]
    },
    {
     "name": "stdout",
     "output_type": "stream",
     "text": [
      "OrderedDict([('hit@10', 0.4229), ('precision@10', 0.0423)])\n",
      "998\n",
      "torch.Size([1083, 27899])\n"
     ]
    },
    {
     "name": "stderr",
     "output_type": "stream",
     "text": [
      "/var/folders/8_/mkx2sfs13pqgtr19k0_pc89h0000gn/T/ipykernel_3552/2199853656.py:28: DeprecationWarning: Conversion of an array with ndim > 0 to a scalar is deprecated, and will error in future. Ensure you extract a single element from your array before performing this operation. (Deprecated NumPy 1.25.)\n",
      "  return int(r_c) - 1\n"
     ]
    },
    {
     "name": "stdout",
     "output_type": "stream",
     "text": [
      "OrderedDict([('hit@10', 0.4229), ('precision@10', 0.0423)])\n",
      "1001\n",
      "OrderedDict([('hit@10', 0.1034), ('precision@10', 0.0103)])\n",
      "torch.Size([1083, 27899])\n"
     ]
    },
    {
     "name": "stderr",
     "output_type": "stream",
     "text": [
      "/var/folders/8_/mkx2sfs13pqgtr19k0_pc89h0000gn/T/ipykernel_3552/2199853656.py:28: DeprecationWarning: Conversion of an array with ndim > 0 to a scalar is deprecated, and will error in future. Ensure you extract a single element from your array before performing this operation. (Deprecated NumPy 1.25.)\n",
      "  return int(r_c) - 1\n"
     ]
    },
    {
     "name": "stdout",
     "output_type": "stream",
     "text": [
      "OrderedDict([('hit@10', 0.1034), ('precision@10', 0.0103)])\n",
      "997\n",
      "torch.Size([1083, 27899])\n"
     ]
    },
    {
     "name": "stderr",
     "output_type": "stream",
     "text": [
      "/var/folders/8_/mkx2sfs13pqgtr19k0_pc89h0000gn/T/ipykernel_3552/2199853656.py:28: DeprecationWarning: Conversion of an array with ndim > 0 to a scalar is deprecated, and will error in future. Ensure you extract a single element from your array before performing this operation. (Deprecated NumPy 1.25.)\n",
      "  return int(r_c) - 1\n"
     ]
    },
    {
     "name": "stdout",
     "output_type": "stream",
     "text": [
      "OrderedDict([('hit@10', 0.1034), ('precision@10', 0.0103)])\n",
      "1007\n",
      "torch.Size([1083, 27899])\n"
     ]
    },
    {
     "name": "stderr",
     "output_type": "stream",
     "text": [
      "/var/folders/8_/mkx2sfs13pqgtr19k0_pc89h0000gn/T/ipykernel_3552/2199853656.py:28: DeprecationWarning: Conversion of an array with ndim > 0 to a scalar is deprecated, and will error in future. Ensure you extract a single element from your array before performing this operation. (Deprecated NumPy 1.25.)\n",
      "  return int(r_c) - 1\n"
     ]
    },
    {
     "name": "stdout",
     "output_type": "stream",
     "text": [
      "OrderedDict([('hit@10', 0.1034), ('precision@10', 0.0103)])\n",
      "1003\n",
      "torch.Size([1083, 27899])\n"
     ]
    },
    {
     "name": "stderr",
     "output_type": "stream",
     "text": [
      "/var/folders/8_/mkx2sfs13pqgtr19k0_pc89h0000gn/T/ipykernel_3552/2199853656.py:28: DeprecationWarning: Conversion of an array with ndim > 0 to a scalar is deprecated, and will error in future. Ensure you extract a single element from your array before performing this operation. (Deprecated NumPy 1.25.)\n",
      "  return int(r_c) - 1\n"
     ]
    },
    {
     "name": "stdout",
     "output_type": "stream",
     "text": [
      "OrderedDict([('hit@10', 0.1034), ('precision@10', 0.0103)])\n",
      "1003\n",
      "torch.Size([1083, 27899])\n"
     ]
    },
    {
     "name": "stderr",
     "output_type": "stream",
     "text": [
      "/var/folders/8_/mkx2sfs13pqgtr19k0_pc89h0000gn/T/ipykernel_3552/2199853656.py:28: DeprecationWarning: Conversion of an array with ndim > 0 to a scalar is deprecated, and will error in future. Ensure you extract a single element from your array before performing this operation. (Deprecated NumPy 1.25.)\n",
      "  return int(r_c) - 1\n"
     ]
    },
    {
     "name": "stdout",
     "output_type": "stream",
     "text": [
      "OrderedDict([('hit@10', 0.1034), ('precision@10', 0.0103)])\n",
      "995\n",
      "OrderedDict([('hit@10', 0.0933), ('precision@10', 0.0093)])\n",
      "torch.Size([1083, 27899])\n"
     ]
    },
    {
     "name": "stderr",
     "output_type": "stream",
     "text": [
      "/var/folders/8_/mkx2sfs13pqgtr19k0_pc89h0000gn/T/ipykernel_3552/2199853656.py:28: DeprecationWarning: Conversion of an array with ndim > 0 to a scalar is deprecated, and will error in future. Ensure you extract a single element from your array before performing this operation. (Deprecated NumPy 1.25.)\n",
      "  return int(r_c) - 1\n"
     ]
    },
    {
     "name": "stdout",
     "output_type": "stream",
     "text": [
      "OrderedDict([('hit@10', 0.0933), ('precision@10', 0.0093)])\n",
      "1013\n",
      "torch.Size([1083, 27899])\n"
     ]
    },
    {
     "name": "stderr",
     "output_type": "stream",
     "text": [
      "/var/folders/8_/mkx2sfs13pqgtr19k0_pc89h0000gn/T/ipykernel_3552/2199853656.py:28: DeprecationWarning: Conversion of an array with ndim > 0 to a scalar is deprecated, and will error in future. Ensure you extract a single element from your array before performing this operation. (Deprecated NumPy 1.25.)\n",
      "  return int(r_c) - 1\n"
     ]
    },
    {
     "name": "stdout",
     "output_type": "stream",
     "text": [
      "OrderedDict([('hit@10', 0.0933), ('precision@10', 0.0093)])\n",
      "1007\n",
      "torch.Size([1083, 27899])\n"
     ]
    },
    {
     "name": "stderr",
     "output_type": "stream",
     "text": [
      "/var/folders/8_/mkx2sfs13pqgtr19k0_pc89h0000gn/T/ipykernel_3552/2199853656.py:28: DeprecationWarning: Conversion of an array with ndim > 0 to a scalar is deprecated, and will error in future. Ensure you extract a single element from your array before performing this operation. (Deprecated NumPy 1.25.)\n",
      "  return int(r_c) - 1\n"
     ]
    },
    {
     "name": "stdout",
     "output_type": "stream",
     "text": [
      "OrderedDict([('hit@10', 0.0933), ('precision@10', 0.0093)])\n",
      "993\n",
      "torch.Size([1083, 27899])\n"
     ]
    },
    {
     "name": "stderr",
     "output_type": "stream",
     "text": [
      "/var/folders/8_/mkx2sfs13pqgtr19k0_pc89h0000gn/T/ipykernel_3552/2199853656.py:28: DeprecationWarning: Conversion of an array with ndim > 0 to a scalar is deprecated, and will error in future. Ensure you extract a single element from your array before performing this operation. (Deprecated NumPy 1.25.)\n",
      "  return int(r_c) - 1\n"
     ]
    },
    {
     "name": "stdout",
     "output_type": "stream",
     "text": [
      "OrderedDict([('hit@10', 0.0933), ('precision@10', 0.0093)])\n",
      "998\n",
      "torch.Size([1083, 27899])\n"
     ]
    },
    {
     "name": "stderr",
     "output_type": "stream",
     "text": [
      "/var/folders/8_/mkx2sfs13pqgtr19k0_pc89h0000gn/T/ipykernel_3552/2199853656.py:28: DeprecationWarning: Conversion of an array with ndim > 0 to a scalar is deprecated, and will error in future. Ensure you extract a single element from your array before performing this operation. (Deprecated NumPy 1.25.)\n",
      "  return int(r_c) - 1\n"
     ]
    },
    {
     "name": "stdout",
     "output_type": "stream",
     "text": [
      "OrderedDict([('hit@10', 0.0933), ('precision@10', 0.0093)])\n",
      "996\n",
      "OrderedDict([('hit@10', 0.1016), ('precision@10', 0.0102)])\n",
      "torch.Size([1083, 27899])\n"
     ]
    },
    {
     "name": "stderr",
     "output_type": "stream",
     "text": [
      "/var/folders/8_/mkx2sfs13pqgtr19k0_pc89h0000gn/T/ipykernel_3552/2199853656.py:28: DeprecationWarning: Conversion of an array with ndim > 0 to a scalar is deprecated, and will error in future. Ensure you extract a single element from your array before performing this operation. (Deprecated NumPy 1.25.)\n",
      "  return int(r_c) - 1\n"
     ]
    },
    {
     "name": "stdout",
     "output_type": "stream",
     "text": [
      "OrderedDict([('hit@10', 0.1016), ('precision@10', 0.0102)])\n",
      "1007\n",
      "torch.Size([1083, 27899])\n"
     ]
    },
    {
     "name": "stderr",
     "output_type": "stream",
     "text": [
      "/var/folders/8_/mkx2sfs13pqgtr19k0_pc89h0000gn/T/ipykernel_3552/2199853656.py:28: DeprecationWarning: Conversion of an array with ndim > 0 to a scalar is deprecated, and will error in future. Ensure you extract a single element from your array before performing this operation. (Deprecated NumPy 1.25.)\n",
      "  return int(r_c) - 1\n"
     ]
    },
    {
     "name": "stdout",
     "output_type": "stream",
     "text": [
      "OrderedDict([('hit@10', 0.1016), ('precision@10', 0.0102)])\n",
      "1016\n",
      "torch.Size([1083, 27899])\n"
     ]
    },
    {
     "name": "stderr",
     "output_type": "stream",
     "text": [
      "/var/folders/8_/mkx2sfs13pqgtr19k0_pc89h0000gn/T/ipykernel_3552/2199853656.py:28: DeprecationWarning: Conversion of an array with ndim > 0 to a scalar is deprecated, and will error in future. Ensure you extract a single element from your array before performing this operation. (Deprecated NumPy 1.25.)\n",
      "  return int(r_c) - 1\n"
     ]
    },
    {
     "name": "stdout",
     "output_type": "stream",
     "text": [
      "OrderedDict([('hit@10', 0.1016), ('precision@10', 0.0102)])\n",
      "1025\n",
      "torch.Size([1083, 27899])\n"
     ]
    },
    {
     "name": "stderr",
     "output_type": "stream",
     "text": [
      "/var/folders/8_/mkx2sfs13pqgtr19k0_pc89h0000gn/T/ipykernel_3552/2199853656.py:28: DeprecationWarning: Conversion of an array with ndim > 0 to a scalar is deprecated, and will error in future. Ensure you extract a single element from your array before performing this operation. (Deprecated NumPy 1.25.)\n",
      "  return int(r_c) - 1\n"
     ]
    },
    {
     "name": "stdout",
     "output_type": "stream",
     "text": [
      "OrderedDict([('hit@10', 0.1016), ('precision@10', 0.0102)])\n",
      "1022\n",
      "torch.Size([1083, 27899])\n"
     ]
    },
    {
     "name": "stderr",
     "output_type": "stream",
     "text": [
      "/var/folders/8_/mkx2sfs13pqgtr19k0_pc89h0000gn/T/ipykernel_3552/2199853656.py:28: DeprecationWarning: Conversion of an array with ndim > 0 to a scalar is deprecated, and will error in future. Ensure you extract a single element from your array before performing this operation. (Deprecated NumPy 1.25.)\n",
      "  return int(r_c) - 1\n"
     ]
    },
    {
     "name": "stdout",
     "output_type": "stream",
     "text": [
      "OrderedDict([('hit@10', 0.1016), ('precision@10', 0.0102)])\n",
      "1014\n",
      "OrderedDict([('hit@10', 0.1034), ('precision@10', 0.0103)])\n",
      "torch.Size([1083, 27899])\n"
     ]
    },
    {
     "name": "stderr",
     "output_type": "stream",
     "text": [
      "/var/folders/8_/mkx2sfs13pqgtr19k0_pc89h0000gn/T/ipykernel_3552/2199853656.py:28: DeprecationWarning: Conversion of an array with ndim > 0 to a scalar is deprecated, and will error in future. Ensure you extract a single element from your array before performing this operation. (Deprecated NumPy 1.25.)\n",
      "  return int(r_c) - 1\n"
     ]
    },
    {
     "name": "stdout",
     "output_type": "stream",
     "text": [
      "OrderedDict([('hit@10', 0.1034), ('precision@10', 0.0103)])\n",
      "1018\n",
      "torch.Size([1083, 27899])\n"
     ]
    },
    {
     "name": "stderr",
     "output_type": "stream",
     "text": [
      "/var/folders/8_/mkx2sfs13pqgtr19k0_pc89h0000gn/T/ipykernel_3552/2199853656.py:28: DeprecationWarning: Conversion of an array with ndim > 0 to a scalar is deprecated, and will error in future. Ensure you extract a single element from your array before performing this operation. (Deprecated NumPy 1.25.)\n",
      "  return int(r_c) - 1\n"
     ]
    },
    {
     "name": "stdout",
     "output_type": "stream",
     "text": [
      "OrderedDict([('hit@10', 0.1034), ('precision@10', 0.0103)])\n",
      "1004\n",
      "torch.Size([1083, 27899])\n"
     ]
    },
    {
     "name": "stderr",
     "output_type": "stream",
     "text": [
      "/var/folders/8_/mkx2sfs13pqgtr19k0_pc89h0000gn/T/ipykernel_3552/2199853656.py:28: DeprecationWarning: Conversion of an array with ndim > 0 to a scalar is deprecated, and will error in future. Ensure you extract a single element from your array before performing this operation. (Deprecated NumPy 1.25.)\n",
      "  return int(r_c) - 1\n"
     ]
    },
    {
     "name": "stdout",
     "output_type": "stream",
     "text": [
      "OrderedDict([('hit@10', 0.1034), ('precision@10', 0.0103)])\n",
      "1014\n",
      "torch.Size([1083, 27899])\n"
     ]
    },
    {
     "name": "stderr",
     "output_type": "stream",
     "text": [
      "/var/folders/8_/mkx2sfs13pqgtr19k0_pc89h0000gn/T/ipykernel_3552/2199853656.py:28: DeprecationWarning: Conversion of an array with ndim > 0 to a scalar is deprecated, and will error in future. Ensure you extract a single element from your array before performing this operation. (Deprecated NumPy 1.25.)\n",
      "  return int(r_c) - 1\n"
     ]
    },
    {
     "name": "stdout",
     "output_type": "stream",
     "text": [
      "OrderedDict([('hit@10', 0.1034), ('precision@10', 0.0103)])\n",
      "1004\n",
      "torch.Size([1083, 27899])\n"
     ]
    },
    {
     "name": "stderr",
     "output_type": "stream",
     "text": [
      "/var/folders/8_/mkx2sfs13pqgtr19k0_pc89h0000gn/T/ipykernel_3552/2199853656.py:28: DeprecationWarning: Conversion of an array with ndim > 0 to a scalar is deprecated, and will error in future. Ensure you extract a single element from your array before performing this operation. (Deprecated NumPy 1.25.)\n",
      "  return int(r_c) - 1\n"
     ]
    },
    {
     "name": "stdout",
     "output_type": "stream",
     "text": [
      "OrderedDict([('hit@10', 0.1034), ('precision@10', 0.0103)])\n",
      "1015\n",
      "OrderedDict([('hit@10', 0.0868), ('precision@10', 0.0087)])\n",
      "torch.Size([1083, 27899])\n"
     ]
    },
    {
     "name": "stderr",
     "output_type": "stream",
     "text": [
      "/var/folders/8_/mkx2sfs13pqgtr19k0_pc89h0000gn/T/ipykernel_3552/2199853656.py:28: DeprecationWarning: Conversion of an array with ndim > 0 to a scalar is deprecated, and will error in future. Ensure you extract a single element from your array before performing this operation. (Deprecated NumPy 1.25.)\n",
      "  return int(r_c) - 1\n"
     ]
    },
    {
     "name": "stdout",
     "output_type": "stream",
     "text": [
      "OrderedDict([('hit@10', 0.0868), ('precision@10', 0.0087)])\n",
      "1018\n",
      "torch.Size([1083, 27899])\n"
     ]
    },
    {
     "name": "stderr",
     "output_type": "stream",
     "text": [
      "/var/folders/8_/mkx2sfs13pqgtr19k0_pc89h0000gn/T/ipykernel_3552/2199853656.py:28: DeprecationWarning: Conversion of an array with ndim > 0 to a scalar is deprecated, and will error in future. Ensure you extract a single element from your array before performing this operation. (Deprecated NumPy 1.25.)\n",
      "  return int(r_c) - 1\n"
     ]
    },
    {
     "name": "stdout",
     "output_type": "stream",
     "text": [
      "OrderedDict([('hit@10', 0.0868), ('precision@10', 0.0087)])\n",
      "1014\n",
      "torch.Size([1083, 27899])\n"
     ]
    },
    {
     "name": "stderr",
     "output_type": "stream",
     "text": [
      "/var/folders/8_/mkx2sfs13pqgtr19k0_pc89h0000gn/T/ipykernel_3552/2199853656.py:28: DeprecationWarning: Conversion of an array with ndim > 0 to a scalar is deprecated, and will error in future. Ensure you extract a single element from your array before performing this operation. (Deprecated NumPy 1.25.)\n",
      "  return int(r_c) - 1\n"
     ]
    },
    {
     "name": "stdout",
     "output_type": "stream",
     "text": [
      "OrderedDict([('hit@10', 0.0868), ('precision@10', 0.0087)])\n",
      "1016\n",
      "torch.Size([1083, 27899])\n"
     ]
    },
    {
     "name": "stderr",
     "output_type": "stream",
     "text": [
      "/var/folders/8_/mkx2sfs13pqgtr19k0_pc89h0000gn/T/ipykernel_3552/2199853656.py:28: DeprecationWarning: Conversion of an array with ndim > 0 to a scalar is deprecated, and will error in future. Ensure you extract a single element from your array before performing this operation. (Deprecated NumPy 1.25.)\n",
      "  return int(r_c) - 1\n"
     ]
    },
    {
     "name": "stdout",
     "output_type": "stream",
     "text": [
      "OrderedDict([('hit@10', 0.0868), ('precision@10', 0.0087)])\n",
      "1020\n",
      "torch.Size([1083, 27899])\n",
      "OrderedDict([('hit@10', 0.0868), ('precision@10', 0.0087)])\n",
      "1014\n"
     ]
    },
    {
     "name": "stderr",
     "output_type": "stream",
     "text": [
      "/var/folders/8_/mkx2sfs13pqgtr19k0_pc89h0000gn/T/ipykernel_3552/2199853656.py:28: DeprecationWarning: Conversion of an array with ndim > 0 to a scalar is deprecated, and will error in future. Ensure you extract a single element from your array before performing this operation. (Deprecated NumPy 1.25.)\n",
      "  return int(r_c) - 1\n"
     ]
    }
   ],
   "source": [
    "at.og_atomic_files()\n",
    "\n",
    "hit = []\n",
    "pres = []\n",
    "card = []\n",
    "\n",
    "inter = pd.read_csv('foursquare/foursquare.inter', sep='\\t')\n",
    "unique_users = list(set(inter['uid:token']))\n",
    "unique_locations = list(set(inter['venue_id:token']))\n",
    "\n",
    "m = 5\n",
    "params = tuning()\n",
    "\n",
    "for e in range(30):\n",
    "\n",
    "    if e % m == 0:\n",
    "        model, results = training(params)\n",
    "        hit.append(results['hit@10'])\n",
    "        pres.append(results['precision@10'])\n",
    "\n",
    "    predictions = make_predict(model)\n",
    "    update_interactions(unique_users, predictions)\n",
    "\n",
    "    card.append(len(set(predictions)))\n",
    "\n",
    "    print(results)\n",
    "    print(len(set(predictions)))"
   ]
  },
  {
   "cell_type": "code",
   "execution_count": 1,
   "metadata": {},
   "outputs": [],
   "source": [
    "hit, pres, card = ([0.4894, 0.0674, 0.0905, 0.1404, 0.0637, 0.1145],\n",
    " [0.0489, 0.0067, 0.009, 0.014, 0.0064, 0.0114],\n",
    " [877,\n",
    "  885,\n",
    "  857,\n",
    "  890,\n",
    "  894,\n",
    "  1001,\n",
    "  1010,\n",
    "  990,\n",
    "  1011,\n",
    "  1022,\n",
    "  921,\n",
    "  939,\n",
    "  927,\n",
    "  926,\n",
    "  935,\n",
    "  890,\n",
    "  901,\n",
    "  890,\n",
    "  894,\n",
    "  894,\n",
    "  831,\n",
    "  824,\n",
    "  834,\n",
    "  813,\n",
    "  828,\n",
    "  1043,\n",
    "  1042,\n",
    "  1047,\n",
    "  1028,\n",
    "  1029])"
   ]
  },
  {
   "cell_type": "code",
   "execution_count": 15,
   "metadata": {},
   "outputs": [],
   "source": [
    "import matplotlib.pyplot as plt"
   ]
  },
  {
   "cell_type": "code",
   "execution_count": 16,
   "metadata": {},
   "outputs": [
    {
     "data": {
      "image/png": "[encoded data removed]",
      "text/plain": [
       "<Figure size 640x480 with 1 Axes>"
      ]
     },
     "metadata": {},
     "output_type": "display_data"
    }
   ],
   "source": [
    "plt.plot(range(len(hit)), hit)\n",
    "plt.plot(range(len(hit)), pres)\n",
    "plt.legend(['Hit@10', 'Precision@10'])\n",
    "plt.xlabel('Training \"step\"')\n",
    "plt.show()"
   ]
  },
  {
   "cell_type": "code",
   "execution_count": 21,
   "metadata": {},
   "outputs": [
    {
     "data": {
      "image/png": "[encoded data removed]",
      "text/plain": [
       "<Figure size 640x480 with 1 Axes>"
      ]
     },
     "metadata": {},
     "output_type": "display_data"
    }
   ],
   "source": [
    "plt.plot(range(len(card)), card)\n",
    "plt.vlines(range(0,30,5),980, 1030, 'red', 'dotted')\n",
    "plt.xlabel('Iteration')\n",
    "plt.show()"
   ]
  }
 ],
 "metadata": {
  "kernelspec": {
   "display_name": "thesis",
   "language": "python",
   "name": "python3"
  },
  "language_info": {
   "codemirror_mode": {
    "name": "ipython",
    "version": 3
   },
   "file_extension": ".py",
   "mimetype": "text/x-python",
   "name": "python",
   "nbconvert_exporter": "python",
   "pygments_lexer": "ipython3",
   "version": "3.10.14"
  }
 },
 "nbformat": 4,
 "nbformat_minor": 2
}
