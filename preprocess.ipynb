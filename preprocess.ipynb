{
 "cells": [
  {
   "cell_type": "code",
   "execution_count": 1,
   "metadata": {},
   "outputs": [],
   "source": [
    "import pandas as pd\n",
    "import numpy as np\n",
    "from sklearn.preprocessing import LabelEncoder \n",
    "import pickle"
   ]
  },
  {
   "cell_type": "code",
   "execution_count": 2,
   "metadata": {},
   "outputs": [],
   "source": [
    "foursquare = pd.read_csv('data/foursquare_complete.csv')\n",
    "\n",
    "# encoding category\n",
    "enc = LabelEncoder()\n",
    "enc.fit(foursquare['venue_category_name'])\n",
    "foursquare['venue_category_name'] = enc.transform(foursquare['venue_category_name'])\n",
    "\n",
    "mapping_name = dict(zip(range(len(enc.classes_)), enc.classes_))\n",
    "with open('name_category.pkl', 'wb') as f:\n",
    "    pickle.dump(mapping_name, f)\n",
    "\n",
    "# equal length in all of the trajectory\n",
    "min_len = float('inf')\n",
    "set_uid = set(foursquare['uid'])\n",
    "for u in set_uid:\n",
    "    min_len = min(min_len, len(foursquare[foursquare['uid'] == u]))\n",
    "\n",
    "red_df = foursquare.groupby(by=['uid']).tail(min_len).copy()\n",
    "#timestamp\n",
    "red_df['timestamp'] = np.arange(0, min_len).tolist() * len(set_uid)\n",
    "\n",
    "# encoding ids\n",
    "enc = LabelEncoder()\n",
    "enc.fit(red_df['venue_id'])\n",
    "red_df['venue_id'] = enc.transform(red_df['venue_id'])\n",
    "\n",
    "mapping_id = dict(zip(range(len(enc.classes_)), enc.classes_))\n",
    "with open('id_category.pkl', 'wb') as f:\n",
    "    pickle.dump(mapping_id, f)\n",
    "\n",
    "### split train/test dataset\n",
    "users = set(red_df['uid'])\n",
    "\n",
    "red_df.columns = ['uid:token', 'venue_id:token', 'venue_category_name:token', 'lat:float', 'lon:float', 'timestamp:token']"
   ]
  },
  {
   "cell_type": "code",
   "execution_count": null,
   "metadata": {},
   "outputs": [],
   "source": [
    "\n",
    "# get the indexes for the training and test sets\n",
    "np.random.seed(1234)\n",
    "test_ind = np.random.choice(list(users), int(len(users) * 0.2), replace=False)\n",
    "train_ind = users.difference(set(test_ind))\n",
    "\n",
    "test_set = red_df[red_df['uid:token'].isin(test_ind)].copy()\n",
    "train_set = red_df[red_df['uid:token'].isin(train_ind)].copy()"
   ]
  },
  {
   "cell_type": "code",
   "execution_count": 82,
   "metadata": {},
   "outputs": [],
   "source": [
    "# training files\n",
    "#interaction\n",
    "train_set[['uid:token', 'venue_id:token', 'timestamp:token']].to_csv('foursquare_train/foursquare_train.inter', index = False, sep = '\\t')\n",
    "#users\n",
    "pd.DataFrame(set(train_set['uid:token']), columns=['uid:token']).to_csv('foursquare_train/foursquare_train.user', index=False, sep = '\\t')\n",
    "#items\n",
    "items = train_set[['venue_id:token', 'venue_category_name:token']].drop_duplicates()\n",
    "items.sort_values(by = 'venue_id:token', inplace=True)\n",
    "items.to_csv('foursquare_train/foursquare_train.item', index = False, sep = '\\t')"
   ]
  },
  {
   "cell_type": "code",
   "execution_count": 83,
   "metadata": {},
   "outputs": [],
   "source": [
    "# test files\n",
    "#interaction\n",
    "test_set[['uid:token', 'venue_id:token', 'timestamp:token']].to_csv('foursquare_test/foursquare_test.inter', index = False, sep = '\\t')\n",
    "#users\n",
    "pd.DataFrame(set(test_set['uid:token']), columns=['uid:token']).to_csv('foursquare_test/foursquare_test.user', index=False, sep = '\\t')\n",
    "#items\n",
    "items = test_set[['venue_id:token', 'venue_category_name:token']].drop_duplicates()\n",
    "items.sort_values(by = 'venue_id:token', inplace=True)\n",
    "items.to_csv('foursquare_test/foursquare_test.item', index = False, sep = '\\t')"
   ]
  },
  {
   "cell_type": "code",
   "execution_count": 4,
   "metadata": {},
   "outputs": [],
   "source": [
    "#interaction\n",
    "red_df[['uid:token', 'venue_id:token', 'timestamp:token']].to_csv('foursquare/foursquare.inter', index = False, sep = '\\t')\n",
    "#users\n",
    "pd.DataFrame(set(red_df['uid:token']), columns=['uid:token']).to_csv('foursquare/foursquare.user', index=False, sep = '\\t')\n",
    "#items\n",
    "items = red_df[['venue_id:token', 'venue_category_name:token']].drop_duplicates()\n",
    "items.sort_values(by = 'venue_id:token', inplace=True)\n",
    "items.to_csv('foursquare/foursquare.item', index = False, sep = '\\t')"
   ]
  },
  {
   "cell_type": "code",
   "execution_count": 22,
   "metadata": {},
   "outputs": [],
   "source": [
    "# spatial distribution for each user\n",
    "it,co = np.unique(red_df[red_df['uid:token'] == 2]['venue_category_name:token'], return_counts=True)"
   ]
  },
  {
   "cell_type": "code",
   "execution_count": 24,
   "metadata": {},
   "outputs": [
    {
     "data": {
      "text/plain": [
       "(array([  3,  12,  19,  22,  23,  31,  33,  34,  36,  38,  53,  54,  64,\n",
       "         68,  69,  70,  87,  94, 114, 121, 124, 128, 141, 161, 165, 166,\n",
       "        170, 180, 192, 196, 199, 201, 212, 220, 223, 234, 239]),\n",
       " array([ 4,  3,  1,  3,  1,  1,  1,  4,  1,  3,  2, 14,  1,  8,  1,  1,  1,\n",
       "         5, 11,  2,  1,  3,  2,  2,  2,  2,  1,  1,  1,  1,  1,  1,  1,  1,\n",
       "         8,  2,  2]))"
      ]
     },
     "execution_count": 24,
     "metadata": {},
     "output_type": "execute_result"
    }
   ],
   "source": [
    "it, co"
   ]
  },
  {
   "cell_type": "code",
   "execution_count": 25,
   "metadata": {},
   "outputs": [],
   "source": [
    "import matplotlib.pyplot as plt"
   ]
  },
  {
   "cell_type": "code",
   "execution_count": 27,
   "metadata": {},
   "outputs": [
    {
     "data": {
      "text/plain": [
       "array([0.04, 0.03, 0.01, 0.03, 0.01, 0.01, 0.01, 0.04, 0.01, 0.03, 0.02,\n",
       "       0.14, 0.01, 0.08, 0.01, 0.01, 0.01, 0.05, 0.11, 0.02, 0.01, 0.03,\n",
       "       0.02, 0.02, 0.02, 0.02, 0.01, 0.01, 0.01, 0.01, 0.01, 0.01, 0.01,\n",
       "       0.01, 0.08, 0.02, 0.02])"
      ]
     },
     "execution_count": 27,
     "metadata": {},
     "output_type": "execute_result"
    }
   ],
   "source": [
    "co / sum(co)"
   ]
  },
  {
   "cell_type": "code",
   "execution_count": 50,
   "metadata": {},
   "outputs": [
    {
     "data": {
      "text/plain": [
       "(108300, 3)"
      ]
     },
     "execution_count": 50,
     "metadata": {},
     "output_type": "execute_result"
    }
   ],
   "source": [
    "inter = pd.read_csv('foursquare/foursquare.inter', sep = '\\t')\n",
    "items = pd.read_csv('foursquare/foursquare.item', sep = '\\t')\n",
    "inter.shape"
   ]
  },
  {
   "cell_type": "code",
   "execution_count": 69,
   "metadata": {},
   "outputs": [],
   "source": [
    "lista = [94, 114, 121, 124, 128, 141, 161]"
   ]
  },
  {
   "cell_type": "code",
   "execution_count": 74,
   "metadata": {},
   "outputs": [],
   "source": [
    "visit = red_df[red_df['uid:token'] == 2]['venue_category_name:token']"
   ]
  },
  {
   "cell_type": "code",
   "execution_count": 77,
   "metadata": {},
   "outputs": [
    {
     "data": {
      "text/plain": [
       "100    223\n",
       "101    124\n",
       "102    128\n",
       "103     22\n",
       "104     12\n",
       "      ... \n",
       "195    114\n",
       "196     68\n",
       "197     68\n",
       "198     36\n",
       "199     53\n",
       "Name: venue_category_name:token, Length: 100, dtype: int64"
      ]
     },
     "execution_count": 77,
     "metadata": {},
     "output_type": "execute_result"
    }
   ],
   "source": [
    "visit"
   ]
  },
  {
   "cell_type": "code",
   "execution_count": 86,
   "metadata": {},
   "outputs": [
    {
     "name": "stdout",
     "output_type": "stream",
     "text": [
      "128 0.03\n",
      "3 0.04\n",
      "12 0.03\n",
      "141 0.02\n",
      "19 0.01\n",
      "22 0.03\n",
      "23 0.01\n",
      "31 0.01\n",
      "161 0.02\n",
      "34 0.04\n",
      "33 0.01\n",
      "36 0.01\n",
      "165 0.02\n",
      "38 0.03\n",
      "166 0.02\n",
      "170 0.01\n",
      "180 0.01\n",
      "53 0.02\n",
      "54 0.14\n",
      "192 0.01\n",
      "64 0.01\n",
      "196 0.01\n",
      "68 0.08\n",
      "70 0.01\n",
      "69 0.01\n",
      "199 0.01\n",
      "201 0.01\n",
      "212 0.01\n",
      "87 0.01\n",
      "220 0.01\n",
      "94 0.05\n",
      "223 0.08\n",
      "234 0.02\n",
      "239 0.02\n",
      "114 0.11\n",
      "121 0.02\n",
      "124 0.01\n"
     ]
    }
   ],
   "source": [
    "rf = 0\n",
    "for i in set(visit):\n",
    "    print(i,np.count_nonzero(visit == i)/len((visit)))\n",
    "    rf+= np.count_nonzero(visit == i)/len((visit))"
   ]
  },
  {
   "cell_type": "code",
   "execution_count": 87,
   "metadata": {},
   "outputs": [
    {
     "data": {
      "text/plain": [
       "1.0000000000000002"
      ]
     },
     "execution_count": 87,
     "metadata": {},
     "output_type": "execute_result"
    }
   ],
   "source": [
    "rf"
   ]
  }
 ],
 "metadata": {
  "kernelspec": {
   "display_name": "thesis",
   "language": "python",
   "name": "python3"
  },
  "language_info": {
   "codemirror_mode": {
    "name": "ipython",
    "version": 3
   },
   "file_extension": ".py",
   "mimetype": "text/x-python",
   "name": "python",
   "nbconvert_exporter": "python",
   "pygments_lexer": "ipython3",
   "version": "3.10.14"
  }
 },
 "nbformat": 4,
 "nbformat_minor": 2
}
