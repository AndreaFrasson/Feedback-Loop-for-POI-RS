{
 "cells": [
  {
   "cell_type": "code",
   "execution_count": 2,
   "metadata": {},
   "outputs": [],
   "source": [
    "import pandas as pd\n",
    "import folium\n",
    "import numpy as np\n",
    "from sklearn.preprocessing import LabelEncoder \n",
    "import pickle"
   ]
  },
  {
   "cell_type": "code",
   "execution_count": 3,
   "metadata": {},
   "outputs": [],
   "source": [
    "foursquare = pd.read_csv('data/foursquare_complete.csv')\n",
    "foursquare['geometry'] = list(zip(foursquare['lat'], foursquare['lon']))\n",
    "\n",
    "# encoding category\n",
    "\n",
    "enc = LabelEncoder()\n",
    "enc.fit(foursquare['venue_category_name'])\n",
    "foursquare['venue_category_name'] = enc.transform(foursquare['venue_category_name'])\n",
    "\n",
    "mapping = dict(zip(range(len(enc.classes_)), enc.classes_))\n",
    "with open('name_category.pkl', 'wb') as f:\n",
    "    pickle.dump(mapping, f)\n",
    "\n",
    "\n",
    "#equal length in all of the trajectory\n",
    "min_len = float('inf')\n",
    "set_uid = set(foursquare['uid'])\n",
    "for u in set_uid:\n",
    "    min_len = min(min_len, len(foursquare[foursquare['uid'] == u]))\n",
    "\n",
    "new_df = []\n",
    "for u in set_uid:\n",
    "    to_append = foursquare[foursquare['uid'] == u].iloc[:min_len, :].values.tolist()\n",
    "    for r in to_append:\n",
    "        new_df.append(r)\n",
    "\n",
    "new_df = pd.DataFrame(new_df, columns=foursquare.columns)\n",
    "\n",
    "#timestamp\n",
    "new_df['timestamp'] = np.arange(1, 101).tolist() * len(set_uid)\n",
    "\n",
    "#inter file for recbole\n",
    "red_df = new_df[['uid', 'venue_id', 'timestamp', 'venue_category_name']].copy()\n",
    "red_df.columns = ('uid:token', 'venue_id:token', 'timestamp:token', 'venue_category_name:token')"
   ]
  },
  {
   "cell_type": "code",
   "execution_count": 4,
   "metadata": {},
   "outputs": [],
   "source": [
    "# encoding ids\n",
    "enc = LabelEncoder()\n",
    "enc.fit(red_df['venue_id:token'])\n",
    "red_df['venue_id:token'] = enc.transform(red_df['venue_id:token'])\n",
    "\n",
    "mapping = dict(zip(range(len(enc.classes_)), enc.classes_))\n",
    "with open('id_category.pkl', 'wb') as f:\n",
    "    pickle.dump(mapping, f)\n",
    "\n",
    "# interaction file\n",
    "red_df[['uid:token', 'venue_id:token', 'timestamp:token']].to_csv('foursquare/foursquare.inter', index=False, sep = '\\t')\n",
    "#item file for recbole\n",
    "items = red_df[['venue_id:token', 'venue_category_name:token']].drop_duplicates()\n",
    "items.to_csv('foursquare/foursquare.item', index = False, sep='\\t')\n",
    "#user file\n",
    "pd.DataFrame(set(red_df['uid:token']), columns=['uid:token']).to_csv('foursquare/foursquare.user', index=False, sep = '\\t')"
   ]
  }
 ],
 "metadata": {
  "kernelspec": {
   "display_name": "thesis",
   "language": "python",
   "name": "python3"
  },
  "language_info": {
   "codemirror_mode": {
    "name": "ipython",
    "version": 3
   },
   "file_extension": ".py",
   "mimetype": "text/x-python",
   "name": "python",
   "nbconvert_exporter": "python",
   "pygments_lexer": "ipython3",
   "version": "3.10.14"
  }
 },
 "nbformat": 4,
 "nbformat_minor": 2
}
